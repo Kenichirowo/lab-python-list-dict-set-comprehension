{
 "cells": [
  {
   "cell_type": "markdown",
   "id": "25d7736c-ba17-4aff-b6bb-66eba20fbf4e",
   "metadata": {},
   "source": [
    "# Lab | List, Dict and Set Comprehension"
   ]
  },
  {
   "cell_type": "markdown",
   "id": "7dd3cbde-675a-4b81-92c3-f728846dbe06",
   "metadata": {},
   "source": [
    "## Exercise: Managing Customer Orders Optimized with Comprehension"
   ]
  },
  {
   "cell_type": "markdown",
   "id": "5d500160-2fb7-4777-b5e4-09d45ebaf328",
   "metadata": {},
   "source": [
    "In the previous exercise, you developed a program to manage customer orders and inventory. Now, let's take it a step further and incorporate comprehension into your code.\n",
    "\n",
    "Follow the steps below to complete the exercise:\n",
    "\n",
    "1. Review your code from the previous exercise and identify areas where you can apply comprehension to simplify and streamline your code. \n",
    "\n",
    "    - *Hint: Apply it to initialize inventory, updating the inventory and printing the updated inventory.*\n",
    "    \n",
    "    - For example, in initializing the inventory, we could have:\n",
    "    \n",
    "        ```python\n",
    "        def initialize_inventory(products):\n",
    "            inventory = {product: int(input(f\"Enter the quantity of {product}s available: \")) for product in products}\n",
    "            return inventory\n",
    "\n",
    "        ```\n",
    "<br>\n",
    "    \n",
    "    \n",
    "2. Modify the function get_customer_orders so it prompts the user to enter the number of customer orders and gathers the product names using a loop and user input. Use comprehension.\n",
    "\n",
    "3. Add a new function to calculate the total price of the customer order. For each product in customer_orders, prompt the user to enter the price of that product. Use comprehension to calculate the total price. Note: assume that the user can only have 1 unit of each product.\n",
    "\n",
    "4. Modify the update_inventory function to remove the product from the inventory if its quantity becomes zero after fulfilling the customer orders. Use comprehension to filter out the products with a quantity of zero from the inventory.\n",
    "\n",
    "5. Print the total price of the customer order.\n",
    "\n",
    "Your code should produce output similar to the following:\n",
    "\n",
    "```python\n",
    "Enter the quantity of t-shirts available:  5\n",
    "Enter the quantity of mugs available:  4\n",
    "Enter the quantity of hats available:  3\n",
    "Enter the quantity of books available:  2\n",
    "Enter the quantity of keychains available:  1\n",
    "Enter the number of customer orders:  2\n",
    "Enter the name of a product that a customer wants to order:  hat\n",
    "Enter the name of a product that a customer wants to order:  keychain\n",
    "\n",
    "Order Statistics:\n",
    "Total Products Ordered: 2\n",
    "Percentage of Unique Products Ordered: 40.0\n",
    "\n",
    "Updated Inventory:\n",
    "t-shirt: 5\n",
    "mug: 4\n",
    "hat: 2\n",
    "book: 2\n",
    "Enter the price of keychain:  5\n",
    "Enter the price of hat:  10\n",
    "Total Price: 15.0\n",
    "\n",
    "```\n"
   ]
  },
  {
   "cell_type": "markdown",
   "id": "a0d49833-ba51-45e8-9630-613f805c8779",
   "metadata": {},
   "source": [
    "1."
   ]
  },
  {
   "cell_type": "code",
   "execution_count": 48,
   "id": "3fcea250-dc06-4661-8bb8-429ed8ca9e20",
   "metadata": {},
   "outputs": [],
   "source": [
    "products = ['t-shirt', 'mug', 'hat', 'book', 'keychain']\n",
    "\n",
    "inventory = {}\n",
    "\n",
    "def initialize_inventory(products):\n",
    "    inventory = {product: int(input(f\"Enter the quantity of {product}s available: \")) for product in products}\n",
    "    return inventory\n",
    "\n",
    "def get_customer_orders():\n",
    "    customer_orders = set()\n",
    "    keep_adding = True\n",
    "\n",
    "    while keep_adding:\n",
    "        product = inputt = input(\"Enter the name of a product you want to order (t-shirt, mug, hat, book, keychain): \")\n",
    "     # Check if the product is available and not already ordered\n",
    "        if product in products:\n",
    "            customer_orders.add(product)\n",
    "            print(f\"{product} added to your order.\")\n",
    "        else:\n",
    "            print(\"Invalid product. Please choose from the available options.\")\n",
    "    #once first product is ordered, lets add the loop to make sure that customer writes yes or no\n",
    "        while True: \n",
    "            question = input(\"Would you like to add another product? Please type 'yes' or 'no': \")\n",
    "            if question.lower() == \"no\":\n",
    "                keep_adding = False #changing keep_adding to False to stop the loop\n",
    "                break  # Exit the loop if the user says 'no'\n",
    "            elif question.lower() == \"yes\":\n",
    "                break  # Just break if 'yes', continue adding products\n",
    "            else:\n",
    "                print(\"Please type 'yes' or 'no'.\")  # Prompt again if neither\n",
    "    return customer_orders\n",
    "\n",
    "def update_inventory(customer_orders, inventory):\n",
    "    return {product: (inventory[product] - 1) if product in customer_orders else inventory[product] for product in inventory}\n",
    "\n",
    "def calculate_order_statistics(customer_orders, products):\n",
    "    total_products_ordered = len(customer_orders)\n",
    "    total_unique_products = len(products)\n",
    "    unique_products_ordered = (total_products_ordered / total_unique_products * 100) if total_unique_products > 0 else 0\n",
    "    order_statistics = total_products_ordered, unique_products_ordered\n",
    "    return order_statistics\n",
    "\n",
    "def print_order_statistics(order_statistics):\n",
    "    total_products_ordered,  unique_products_ordered = order_statistics\n",
    "    print(\"Order Statistics:\")\n",
    "    print(f\"Total Products Ordered: {total_products_ordered}\")\n",
    "    print(f\"Percentage of Unique Products Ordered: {unique_products_ordered}\")\n",
    "\n",
    "def print_updated_inventory(inventory):\n",
    "    print(\"Updated Inventory:\")\n",
    "    [print(f\"{product}: {quantity}\") for product, quantity in inventory.items()]\n"
   ]
  },
  {
   "cell_type": "markdown",
   "id": "a5cd20cd-5542-44f2-8858-0f866360ab7f",
   "metadata": {},
   "source": [
    "2. Modify the function get_customer_orders so it prompts the user to enter the number of customer orders and gathers the product names using a loop and user input. Use comprehension."
   ]
  },
  {
   "cell_type": "code",
   "execution_count": 49,
   "id": "f4e833cb-982f-4d45-9d5d-70825af74324",
   "metadata": {},
   "outputs": [],
   "source": [
    "def get_customer_orders():\n",
    "    customer_orders = set()\n",
    "\n",
    "    try:\n",
    "        num_orders = int(input(\"Enter the number of customer orders: \"))\n",
    "    except ValueError:\n",
    "        print(\"Please enter a valid number.\")\n",
    "        return customer_orders\n",
    "\n",
    "    while len(customer_orders) < num_orders: #making sure that we are going to request as many available products as we entered earlier\n",
    "        # Attempt to add a valid product through comprehension\n",
    "        customer_orders.update({\n",
    "            product\n",
    "            for product in [input(\"Enter the name of a that a customer wants to order: \")]\n",
    "            if product in products and product not in customer_orders\n",
    "            or print(\"Invalid product or duplicate. Please choose a different option.\")\n",
    "        })\n",
    "\n",
    "    return customer_orders"
   ]
  },
  {
   "cell_type": "markdown",
   "id": "98ed5aae-e4d5-4090-8d93-282b7d74e28d",
   "metadata": {},
   "source": [
    "3. Add a new function to calculate the total price of the customer order. For each product in customer_orders, prompt the user to enter the price of that product. Use comprehension to calculate the total price. Note: assume that the user can only have 1 unit of each product.\n",
    "\n"
   ]
  },
  {
   "cell_type": "code",
   "execution_count": 50,
   "id": "e5f58da5-4a09-4bb1-b29b-13a0a322c8bf",
   "metadata": {},
   "outputs": [],
   "source": [
    "def calculate_total_price(customer_orders):\n",
    "    total_price = sum(\n",
    "        float(input(f\"Enter the price for {product}: \"))\n",
    "        for product in customer_orders\n",
    "    )\n",
    "    print(f\"Total Price: {total_price}\")"
   ]
  },
  {
   "cell_type": "markdown",
   "id": "c1ef6b9b-52af-4834-9ce0-5d90ceb59e6a",
   "metadata": {},
   "source": [
    "4. Modify the update_inventory function to remove the product from the inventory if its quantity becomes zero after fulfilling the customer orders. Use comprehension to filter out the products with a quantity of zero from the inventory."
   ]
  },
  {
   "cell_type": "code",
   "execution_count": 51,
   "id": "1179a124-f5d3-4c1e-b8ff-34701085c7f1",
   "metadata": {},
   "outputs": [],
   "source": [
    "# def update_inventory(customer_orders, inventory):\n",
    "#     return {product: (inventory[product] - 1) if product in customer_orders else inventory[product] for product in inventory}\n",
    "\n",
    "def update_inventory(customer_orders, inventory):\n",
    "    return {\n",
    "        product: new_quantity\n",
    "        for product in inventory\n",
    "        if (new_quantity := inventory[product] - (1 if product in customer_orders else 0)) > 0\n",
    "    }"
   ]
  },
  {
   "cell_type": "markdown",
   "id": "ee59ebb7-c450-4b82-a031-a4f6d6c10e04",
   "metadata": {},
   "source": [
    "5. Print the total price of the customer order."
   ]
  },
  {
   "cell_type": "code",
   "execution_count": 52,
   "id": "05552324-6c4a-4226-a885-d982e5ded3c1",
   "metadata": {},
   "outputs": [
    {
     "name": "stdin",
     "output_type": "stream",
     "text": [
      "Enter the quantity of t-shirts available:  10\n",
      "Enter the quantity of mugs available:  1\n",
      "Enter the quantity of hats available:  10\n",
      "Enter the quantity of books available:  10\n",
      "Enter the quantity of keychains available:  10\n",
      "Enter the number of customer orders:  2\n",
      "Enter the name of a that a customer wants to order:  hat\n",
      "Enter the name of a that a customer wants to order:  mug\n"
     ]
    },
    {
     "name": "stdout",
     "output_type": "stream",
     "text": [
      "\n",
      "Order Statistics:\n",
      "Total Products Ordered: 2\n",
      "Percentage of Unique Products Ordered: 40.0\n",
      "\n",
      "\n",
      "Updated Inventory:\n",
      "t-shirt: 10\n",
      "hat: 9\n",
      "book: 10\n",
      "keychain: 10\n",
      "\n"
     ]
    },
    {
     "name": "stdin",
     "output_type": "stream",
     "text": [
      "Enter the price for hat:  5\n",
      "Enter the price for mug:  10\n"
     ]
    },
    {
     "name": "stdout",
     "output_type": "stream",
     "text": [
      "Total Price: 15.0\n"
     ]
    }
   ],
   "source": [
    "products = ['t-shirt', 'mug', 'hat', 'book', 'keychain']\n",
    "\n",
    "# Step 1: Initialize the inventory\n",
    "inventory = initialize_inventory(products)\n",
    "\n",
    "# Step 2: Get customer orders\n",
    "customer_orders = get_customer_orders()\n",
    "\n",
    "print(\"\")\n",
    "\n",
    "# Step 3: Print order statistics\n",
    "order_statistics = calculate_order_statistics(customer_orders, products)\n",
    "print_order_statistics(order_statistics)\n",
    "\n",
    "print(\"\")\n",
    "\n",
    "# Step 4: Update inventory based on customer orders\n",
    "updated_inventory = update_inventory(customer_orders, inventory)\n",
    "\n",
    "print(\"\")\n",
    "\n",
    "#let's use the print_updated_inventory too! :)\n",
    "print_updated_inventory(updated_inventory)\n",
    "\n",
    "print(\"\")\n",
    "\n",
    "#And finally let's print total price\n",
    "calculate_total_price(customer_orders)\n"
   ]
  },
  {
   "cell_type": "code",
   "execution_count": null,
   "id": "b163d432-80d6-4cb6-9e4b-2227a23b0559",
   "metadata": {},
   "outputs": [],
   "source": [
    "\n",
    "Enter the number of customer orders:  2\n",
    "Enter the name of a product that a customer wants to order:  hat\n",
    "Enter the name of a product that a customer wants to order:  keychain\n",
    "\n",
    "Order Statistics:\n",
    "Total Products Ordered: 2\n",
    "Percentage of Unique Products Ordered: 40.0\n",
    "\n",
    "Updated Inventory:\n",
    "t-shirt: 5\n",
    "mug: 4\n",
    "hat: 2\n",
    "book: 2\n",
    "Enter the price of keychain:  5\n",
    "Enter the price of hat:  10\n",
    "Total Price: 15.0"
   ]
  }
 ],
 "metadata": {
  "kernelspec": {
   "display_name": "Python 3 (ipykernel)",
   "language": "python",
   "name": "python3"
  },
  "language_info": {
   "codemirror_mode": {
    "name": "ipython",
    "version": 3
   },
   "file_extension": ".py",
   "mimetype": "text/x-python",
   "name": "python",
   "nbconvert_exporter": "python",
   "pygments_lexer": "ipython3",
   "version": "3.12.7"
  }
 },
 "nbformat": 4,
 "nbformat_minor": 5
}
